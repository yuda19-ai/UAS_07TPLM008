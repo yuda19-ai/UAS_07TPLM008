{
 "cells": [
  {
   "cell_type": "markdown",
   "metadata": {},
   "source": [
    "## Checking accuracy"
   ]
  },
  {
   "cell_type": "code",
   "execution_count": 2,
   "metadata": {},
   "outputs": [
    {
     "name": "stdout",
     "output_type": "stream",
     "text": [
      "Optimization terminated successfully.\n",
      "         Current function value: 315.538580\n",
      "         Iterations: 962\n",
      "         Function evaluations: 1436\n",
      "         Gradient evaluations: 1436\n",
      "Training RMSE: 0.24952550227741832\n",
      "Testing RMSE: 1.2096499335990325\n"
     ]
    }
   ],
   "source": [
    "import numpy as np\n",
    "import pandas as pd\n",
    "import matrix_factorization_utilities\n",
    "\n",
    "# Load user ratings\n",
    "raw_training_dataset_df = pd.read_csv('ratings_data_set_training.csv')\n",
    "raw_testing_dataset_df = pd.read_csv('ratings_data_set_testing.csv')\n",
    "\n",
    "# Convert the running list of user ratings into a matrix\n",
    "ratings_training_df = pd.pivot_table(raw_training_dataset_df, index='user_id', columns='item_id', aggfunc=np.max)\n",
    "ratings_testing_df = pd.pivot_table(raw_testing_dataset_df, index='user_id', columns='item_id', aggfunc=np.max)\n",
    "\n",
    "# Apply matrix factorization to find the latent features\n",
    "U, M = matrix_factorization_utilities.low_rank_matrix_factorization(ratings_training_df.as_matrix(),\n",
    "                                                                    num_features=11,\n",
    "                                                                    regularization_amount=1.1)\n",
    "\n",
    "# Find all predicted ratings by multiplying U and M\n",
    "predicted_ratings = np.matmul(U, M)\n",
    "\n",
    "# Measure RMSE\n",
    "rmse_training = matrix_factorization_utilities.RMSE(ratings_training_df.as_matrix(),\n",
    "                                                    predicted_ratings)\n",
    "rmse_testing = matrix_factorization_utilities.RMSE(ratings_testing_df.as_matrix(),\n",
    "                                                   predicted_ratings)\n",
    "\n",
    "print(\"Training RMSE: {}\".format(rmse_training))\n",
    "print(\"Testing RMSE: {}\".format(rmse_testing))"
   ]
  },
  {
   "cell_type": "code",
   "execution_count": null,
   "metadata": {
    "collapsed": true
   },
   "outputs": [],
   "source": []
  }
 ],
 "metadata": {
  "kernelspec": {
   "display_name": "Python 3",
   "language": "python",
   "name": "python3"
  },
  "language_info": {
   "codemirror_mode": {
    "name": "ipython",
    "version": 3
   },
   "file_extension": ".py",
   "mimetype": "text/x-python",
   "name": "python",
   "nbconvert_exporter": "python",
   "pygments_lexer": "ipython3",
   "version": "3.5.2"
  }
 },
 "nbformat": 4,
 "nbformat_minor": 2
}
